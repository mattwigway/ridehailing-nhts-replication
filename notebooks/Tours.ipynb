{
 "cells": [
  {
   "cell_type": "markdown",
   "metadata": {},
   "source": [
    "# Tour composition\n",
    "\n",
    "How often is ridehailing used with other modes in a single tour?"
   ]
  },
  {
   "cell_type": "code",
   "execution_count": 139,
   "metadata": {},
   "outputs": [],
   "source": [
    "%matplotlib inline\n",
    "%config InlineBackend.figure_format = 'retina'\n",
    "\n",
    "import pandas as pd\n",
    "import numpy as np\n",
    "import matplotlib.pyplot as plt\n",
    "from collections import namedtuple\n",
    "from nhts import estReplicateSE"
   ]
  },
  {
   "cell_type": "code",
   "execution_count": 154,
   "metadata": {},
   "outputs": [],
   "source": [
    "WEIGHT = 'WTPERFIN'\n",
    "TAXI_MODE = 17 # Taxi/Uber/Lyft\n",
    "AUTO_MODES = [3, 4, 5, 6]"
   ]
  },
  {
   "cell_type": "code",
   "execution_count": 4,
   "metadata": {},
   "outputs": [],
   "source": [
    "trips17 = pd.read_csv('../data/2017/trippub.csv')\n",
    "repl17 = pd.read_csv('../data/2017/perwgt.csv')\n",
    "trips17 = trips17.merge(repl17.drop(['WTTRDFIN'], 1), on=['HOUSEID', 'PERSONID'], how='left', validate='m:1')"
   ]
  },
  {
   "cell_type": "code",
   "execution_count": 56,
   "metadata": {},
   "outputs": [],
   "source": [
    "# Identify tours, faster\n",
    "persTrips = trips17.sort_values(['HOUSEID', 'PERSONID', 'TDTRPNUM'])"
   ]
  },
  {
   "cell_type": "code",
   "execution_count": 13,
   "metadata": {},
   "outputs": [
    {
     "name": "stdout",
     "output_type": "stream",
     "text": [
      "0 / 923572\n",
      "10000 / 923572\n",
      "20000 / 923572\n",
      "30000 / 923572\n",
      "40000 / 923572\n",
      "50000 / 923572\n",
      "60000 / 923572\n",
      "70000 / 923572\n",
      "80000 / 923572\n",
      "90000 / 923572\n",
      "100000 / 923572\n",
      "110000 / 923572\n",
      "120000 / 923572\n",
      "130000 / 923572\n",
      "140000 / 923572\n",
      "150000 / 923572\n",
      "160000 / 923572\n",
      "170000 / 923572\n",
      "180000 / 923572\n",
      "190000 / 923572\n",
      "200000 / 923572\n",
      "210000 / 923572\n",
      "220000 / 923572\n",
      "230000 / 923572\n",
      "240000 / 923572\n",
      "250000 / 923572\n",
      "260000 / 923572\n",
      "270000 / 923572\n",
      "280000 / 923572\n",
      "290000 / 923572\n",
      "300000 / 923572\n",
      "310000 / 923572\n",
      "320000 / 923572\n",
      "330000 / 923572\n",
      "340000 / 923572\n",
      "350000 / 923572\n",
      "360000 / 923572\n",
      "370000 / 923572\n",
      "380000 / 923572\n",
      "390000 / 923572\n",
      "400000 / 923572\n",
      "410000 / 923572\n",
      "420000 / 923572\n",
      "430000 / 923572\n",
      "440000 / 923572\n",
      "450000 / 923572\n",
      "460000 / 923572\n",
      "470000 / 923572\n",
      "480000 / 923572\n",
      "490000 / 923572\n",
      "500000 / 923572\n",
      "510000 / 923572\n",
      "520000 / 923572\n",
      "530000 / 923572\n",
      "540000 / 923572\n",
      "550000 / 923572\n",
      "560000 / 923572\n",
      "570000 / 923572\n",
      "580000 / 923572\n",
      "590000 / 923572\n",
      "600000 / 923572\n",
      "610000 / 923572\n",
      "620000 / 923572\n",
      "630000 / 923572\n",
      "640000 / 923572\n",
      "650000 / 923572\n",
      "660000 / 923572\n",
      "670000 / 923572\n",
      "680000 / 923572\n",
      "690000 / 923572\n",
      "700000 / 923572\n",
      "710000 / 923572\n",
      "720000 / 923572\n",
      "730000 / 923572\n",
      "740000 / 923572\n",
      "750000 / 923572\n",
      "760000 / 923572\n",
      "770000 / 923572\n",
      "780000 / 923572\n",
      "790000 / 923572\n",
      "800000 / 923572\n",
      "810000 / 923572\n",
      "820000 / 923572\n",
      "830000 / 923572\n",
      "840000 / 923572\n",
      "850000 / 923572\n",
      "860000 / 923572\n",
      "870000 / 923572\n",
      "880000 / 923572\n",
      "890000 / 923572\n",
      "900000 / 923572\n",
      "910000 / 923572\n",
      "920000 / 923572\n"
     ]
    }
   ],
   "source": [
    "repWeights = [f'WTPERFIN{i}' for i in range(1, 99)]\n",
    "\n",
    "tourComposition = []\n",
    "\n",
    "tourInfo = None\n",
    "currentModes = None\n",
    "previousTripWasHomeBound = False\n",
    "\n",
    "total = len(persTrips)\n",
    "for n, row in enumerate(persTrips[['TRPTRANS', 'TDTRPNUM', 'WHYTRP1S', 'HBPPOPDN', 'HOUSEID', 'PERSONID', 'WTPERFIN', *repWeights]].itertuples()):\n",
    "    if tourInfo is None or row.HOUSEID != tourInfo['HOUSEID'] or row.PERSONID != tourInfo['PERSONID'] or previousTripWasHomeBound:\n",
    "        if currentModes is not None:\n",
    "            # save tour\n",
    "            # exclude one trip tours.\n",
    "            # \"If you want to take a walk around the block, take a cab. We've got work to do.\"\n",
    "            # - Morey Amsterdam, c. 1961\n",
    "            tourInfo['validTour'] = all([mode > 0 for mode in currentModes]) and len(currentModes) > 1\n",
    "            tourInfo['unimodalTaxiTour'] = all([mode == TAXI_MODE for mode in currentModes])\n",
    "            tourInfo['unimodalAutoTour'] = all([mode in AUTO_MODES for mode in currentModes])\n",
    "            tourInfo['taxiTour'] = any([mode == TAXI_MODE for mode in currentModes])\n",
    "            tourInfo['autoTour'] = any([mode in AUTO_MODES for mode in currentModes])\n",
    "            tourComposition.append(tourInfo)\n",
    "        \n",
    "        # initialize next tour\n",
    "        tourInfo = dict()\n",
    "        tourInfo['WTPERFIN'] = row.WTPERFIN\n",
    "        tourInfo['HOUSEID'] = row.HOUSEID\n",
    "        tourInfo['PERSONID'] = row.PERSONID\n",
    "        tourInfo['startingTripNumber'] = row.TDTRPNUM\n",
    "        tourInfo['HBPPOPDN'] = row.HBPPOPDN\n",
    "\n",
    "        for w in repWeights:\n",
    "            tourInfo[w] = getattr(row, w) # namedtuples don't support subscripting\n",
    "        currentModes = []\n",
    "    \n",
    "    currentModes.append(row.TRPTRANS)\n",
    "    previousTripWasHomeBound = row.WHYTRP1S == 1\n",
    "    \n",
    "    if n % 10000 == 0:\n",
    "        print(f'{n} / {total}')\n",
    "            \n",
    "tourComposition = pd.DataFrame.from_records(tourComposition)[[\n",
    "        'HOUSEID', 'PERSONID', 'startingTripNumber', 'taxiTour', 'autoTour',\n",
    "    'unimodalTaxiTour', 'unimodalAutoTour', 'validTour',\n",
    " 'WTPERFIN', 'WTPERFIN1', 'WTPERFIN10', 'HBPPOPDN',\n",
    "       'WTPERFIN11', 'WTPERFIN12', 'WTPERFIN13', 'WTPERFIN14',\n",
    "       'WTPERFIN15', 'WTPERFIN16', 'WTPERFIN17', 'WTPERFIN18',\n",
    "       'WTPERFIN19', 'WTPERFIN2', 'WTPERFIN20', 'WTPERFIN21',\n",
    "       'WTPERFIN22', 'WTPERFIN23', 'WTPERFIN24', 'WTPERFIN25',\n",
    "       'WTPERFIN26', 'WTPERFIN27', 'WTPERFIN28', 'WTPERFIN29',\n",
    "       'WTPERFIN3', 'WTPERFIN30', 'WTPERFIN31', 'WTPERFIN32',\n",
    "       'WTPERFIN33', 'WTPERFIN34', 'WTPERFIN35', 'WTPERFIN36',\n",
    "       'WTPERFIN37', 'WTPERFIN38', 'WTPERFIN39', 'WTPERFIN4',\n",
    "       'WTPERFIN40', 'WTPERFIN41', 'WTPERFIN42', 'WTPERFIN43',\n",
    "       'WTPERFIN44', 'WTPERFIN45', 'WTPERFIN46', 'WTPERFIN47',\n",
    "       'WTPERFIN48', 'WTPERFIN49', 'WTPERFIN5', 'WTPERFIN50',\n",
    "       'WTPERFIN51', 'WTPERFIN52', 'WTPERFIN53', 'WTPERFIN54',\n",
    "       'WTPERFIN55', 'WTPERFIN56', 'WTPERFIN57', 'WTPERFIN58',\n",
    "       'WTPERFIN59', 'WTPERFIN6', 'WTPERFIN60', 'WTPERFIN61',\n",
    "       'WTPERFIN62', 'WTPERFIN63', 'WTPERFIN64', 'WTPERFIN65',\n",
    "       'WTPERFIN66', 'WTPERFIN67', 'WTPERFIN68', 'WTPERFIN69',\n",
    "       'WTPERFIN7', 'WTPERFIN70', 'WTPERFIN71', 'WTPERFIN72',\n",
    "       'WTPERFIN73', 'WTPERFIN74', 'WTPERFIN75', 'WTPERFIN76',\n",
    "       'WTPERFIN77', 'WTPERFIN78', 'WTPERFIN79', 'WTPERFIN8',\n",
    "       'WTPERFIN80', 'WTPERFIN81', 'WTPERFIN82', 'WTPERFIN83',\n",
    "       'WTPERFIN84', 'WTPERFIN85', 'WTPERFIN86', 'WTPERFIN87',\n",
    "       'WTPERFIN88', 'WTPERFIN89', 'WTPERFIN9', 'WTPERFIN90',\n",
    "       'WTPERFIN91', 'WTPERFIN92', 'WTPERFIN93', 'WTPERFIN94',\n",
    "       'WTPERFIN95', 'WTPERFIN96', 'WTPERFIN97', 'WTPERFIN98']].copy()"
   ]
  },
  {
   "cell_type": "code",
   "execution_count": 162,
   "metadata": {},
   "outputs": [
    {
     "name": "stdout",
     "output_type": "stream",
     "text": [
      "74.89% +/- 4.28 of tours that include a taxi/ridehail are multimodal\n"
     ]
    }
   ],
   "source": [
    "taxiTours = tourComposition[tourComposition.validTour & tourComposition.taxiTour]\n",
    "est = np.sum(taxiTours[~taxiTours.unimodalTaxiTour].WTPERFIN) / np.sum(taxiTours.WTPERFIN)\n",
    "se = estReplicateSE(\n",
    "    lambda i: np.sum(taxiTours[~taxiTours.unimodalTaxiTour][f'WTPERFIN{i}']) / np.sum(taxiTours[f'WTPERFIN{i}']),\n",
    "    est,\n",
    "    2017\n",
    ")\n",
    "\n",
    "print(f'{est * 100:.2f}% +/- {se * 100 * 1.96:.2f} of tours that include a taxi/ridehail are multimodal')"
   ]
  },
  {
   "cell_type": "code",
   "execution_count": 17,
   "metadata": {},
   "outputs": [
    {
     "name": "stdout",
     "output_type": "stream",
     "text": [
      "50: 54.21% +/- 45.02 of tours that include a taxi/ridehail are multimodal\n",
      "300: 54.75% +/- 28.80 of tours that include a taxi/ridehail are multimodal\n",
      "750: 82.21% +/- 18.44 of tours that include a taxi/ridehail are multimodal\n",
      "1500: 73.23% +/- 16.77 of tours that include a taxi/ridehail are multimodal\n",
      "3000: 70.36% +/- 18.14 of tours that include a taxi/ridehail are multimodal\n",
      "7000: 68.58% +/- 13.09 of tours that include a taxi/ridehail are multimodal\n",
      "17000: 79.41% +/- 8.05 of tours that include a taxi/ridehail are multimodal\n",
      "30000: 82.64% +/- 6.25 of tours that include a taxi/ridehail are multimodal\n"
     ]
    }
   ],
   "source": [
    "for dens in np.sort(trips17.HBPPOPDN.unique()):\n",
    "    taxiTours = tourComposition[tourComposition.validTour & tourComposition.taxiTour & (tourComposition.HBPPOPDN == dens)]\n",
    "    est = np.sum(taxiTours[~taxiTours.unimodalTaxiTour].WTPERFIN) / np.sum(taxiTours.WTPERFIN)\n",
    "    se = estReplicateSE(\n",
    "        lambda i: np.sum(taxiTours[~taxiTours.unimodalTaxiTour][f'WTPERFIN{i}']) / np.sum(taxiTours[f'WTPERFIN{i}']),\n",
    "        est,\n",
    "        2017\n",
    "    )\n",
    "\n",
    "    print(f'{dens}: {est * 100:.2f}% +/- {se * 100 * 1.96:.2f} of tours that include a taxi/ridehail are multimodal')"
   ]
  },
  {
   "cell_type": "code",
   "execution_count": 163,
   "metadata": {},
   "outputs": [
    {
     "name": "stdout",
     "output_type": "stream",
     "text": [
      "7.74% +/- 0.18 of tours that include an auto are multimodal\n"
     ]
    }
   ],
   "source": [
    "autoTours = tourComposition[tourComposition.validTour & tourComposition.autoTour]\n",
    "est = np.sum(autoTours[~autoTours.unimodalAutoTour].WTPERFIN) / np.sum(autoTours.WTPERFIN)\n",
    "se = estReplicateSE(\n",
    "    lambda i: np.sum(autoTours[~autoTours.unimodalAutoTour][f'WTPERFIN{i}']) / np.sum(autoTours[f'WTPERFIN{i}']),\n",
    "    est,\n",
    "    2017\n",
    ")\n",
    "\n",
    "print(f'{est * 100:.2f}% +/- {se * 100 * 1.96:.2f} of tours that include an auto are multimodal')"
   ]
  }
 ],
 "metadata": {
  "kernelspec": {
   "display_name": "Python [conda env:py36]",
   "language": "python",
   "name": "conda-env-py36-py"
  },
  "language_info": {
   "codemirror_mode": {
    "name": "ipython",
    "version": 3
   },
   "file_extension": ".py",
   "mimetype": "text/x-python",
   "name": "python",
   "nbconvert_exporter": "python",
   "pygments_lexer": "ipython3",
   "version": "3.6.3"
  }
 },
 "nbformat": 4,
 "nbformat_minor": 2
}
